{
 "cells": [
  {
   "cell_type": "code",
   "execution_count": 1,
   "metadata": {
    "collapsed": true
   },
   "outputs": [],
   "source": [
    "import h2o\n",
    "from sklearn import datasets\n",
    "import pandas as pd\n",
    "import numpy as np\n",
    "from lime import lime_image\n",
    "import matplotlib.pyplot as plt\n",
    "from lime import lime_image\n",
    "from skimage.segmentation import mark_boundaries\n",
    "%matplotlib inline"
   ]
  },
  {
   "cell_type": "code",
   "execution_count": 2,
   "metadata": {},
   "outputs": [
    {
     "name": "stdout",
     "output_type": "stream",
     "text": [
      "Checking whether there is an H2O instance running at http://localhost:54321. connected.\n"
     ]
    },
    {
     "data": {
      "text/html": [
       "<div style=\"overflow:auto\"><table style=\"width:50%\"><tr><td>H2O cluster uptime:</td>\n",
       "<td>13 mins 41 secs</td></tr>\n",
       "<tr><td>H2O cluster version:</td>\n",
       "<td>3.10.4.4</td></tr>\n",
       "<tr><td>H2O cluster version age:</td>\n",
       "<td>18 days </td></tr>\n",
       "<tr><td>H2O cluster name:</td>\n",
       "<td>H2O_from_python_dustin_verzal_5nozys</td></tr>\n",
       "<tr><td>H2O cluster total nodes:</td>\n",
       "<td>1</td></tr>\n",
       "<tr><td>H2O cluster free memory:</td>\n",
       "<td>5.282 Gb</td></tr>\n",
       "<tr><td>H2O cluster total cores:</td>\n",
       "<td>4</td></tr>\n",
       "<tr><td>H2O cluster allowed cores:</td>\n",
       "<td>4</td></tr>\n",
       "<tr><td>H2O cluster status:</td>\n",
       "<td>locked, healthy</td></tr>\n",
       "<tr><td>H2O connection url:</td>\n",
       "<td>http://localhost:54321</td></tr>\n",
       "<tr><td>H2O connection proxy:</td>\n",
       "<td>None</td></tr>\n",
       "<tr><td>H2O internal security:</td>\n",
       "<td>False</td></tr>\n",
       "<tr><td>Python version:</td>\n",
       "<td>3.5.3 final</td></tr></table></div>"
      ],
      "text/plain": [
       "--------------------------  ------------------------------------\n",
       "H2O cluster uptime:         13 mins 41 secs\n",
       "H2O cluster version:        3.10.4.4\n",
       "H2O cluster version age:    18 days\n",
       "H2O cluster name:           H2O_from_python_dustin_verzal_5nozys\n",
       "H2O cluster total nodes:    1\n",
       "H2O cluster free memory:    5.282 Gb\n",
       "H2O cluster total cores:    4\n",
       "H2O cluster allowed cores:  4\n",
       "H2O cluster status:         locked, healthy\n",
       "H2O connection url:         http://localhost:54321\n",
       "H2O connection proxy:\n",
       "H2O internal security:      False\n",
       "Python version:             3.5.3 final\n",
       "--------------------------  ------------------------------------"
      ]
     },
     "metadata": {},
     "output_type": "display_data"
    }
   ],
   "source": [
    "h2o.init(nthreads=-1)"
   ]
  },
  {
   "cell_type": "code",
   "execution_count": 3,
   "metadata": {},
   "outputs": [
    {
     "name": "stdout",
     "output_type": "stream",
     "text": [
      "Parse progress: |█████████████████████████████████████████████████████████| 100%\n",
      "Parse progress: |█████████████████████████████████████████████████████████| 100%\n"
     ]
    }
   ],
   "source": [
    "# Load Iris dataset\n",
    "digits = datasets.load_digits()\n",
    "\n",
    "# Import to H2O frame\n",
    "X = digits.data\n",
    "Y = digits.target\n",
    "\n",
    "df = h2o.H2OFrame(X)\n",
    "df['target'] = h2o.H2OFrame(Y).asfactor()\n",
    "\n",
    "# Split frame\n",
    "train, test = df.split_frame(ratios=[.8], seed=1)\n",
    "\n",
    "x = set(df.columns) - set(['target'])\n",
    "y = 'target'"
   ]
  },
  {
   "cell_type": "code",
   "execution_count": 4,
   "metadata": {
    "collapsed": true
   },
   "outputs": [],
   "source": [
    "deep = h2o.estimators.deeplearning.H2ODeepLearningEstimator(variable_importances=True)"
   ]
  },
  {
   "cell_type": "code",
   "execution_count": 5,
   "metadata": {},
   "outputs": [
    {
     "name": "stdout",
     "output_type": "stream",
     "text": [
      "deeplearning Model Build progress: |██████████████████████████████████████| 100%\n"
     ]
    }
   ],
   "source": [
    "deep.train(x=x,\n",
    "           y=y,\n",
    "           training_frame=train,\n",
    "           validation_frame=test\n",
    "           )"
   ]
  },
  {
   "cell_type": "code",
   "execution_count": 6,
   "metadata": {
    "collapsed": true
   },
   "outputs": [],
   "source": [
    "explainer = lime_image.LimeImageExplainer()"
   ]
  },
  {
   "cell_type": "code",
   "execution_count": 7,
   "metadata": {},
   "outputs": [
    {
     "name": "stdout",
     "output_type": "stream",
     "text": [
      "Parse progress: |█████████████████████████████████████████████████████████| 100%\n",
      "Parse progress: |█████████████████████████████████████████████████████████| 100%\n",
      "deeplearning prediction progress: |███████████████████████████████████████| 100%\n",
      "Predicted digit:  0  Actual digit:  0\n"
     ]
    },
    {
     "data": {
      "text/plain": [
       "<matplotlib.image.AxesImage at 0x1981960f4a8>"
      ]
     },
     "execution_count": 7,
     "metadata": {},
     "output_type": "execute_result"
    },
    {
     "data": {
      "image/png": "[encoded data removed]",
      "text/plain": [
       "<matplotlib.figure.Figure at 0x198127a8320>"
      ]
     },
     "metadata": {},
     "output_type": "display_data"
    }
   ],
   "source": [
    "idx = 0\n",
    "image = h2o.H2OFrame(digits.images[idx])\n",
    "explanation = explainer.explain_instance(image,\n",
    "                                         deep.predict,\n",
    "                                         top_labels=10,\n",
    "                                         labels=digits.target_names,\n",
    "                                         hide_color=None,\n",
    "                                         num_features = 10000,\n",
    "                                         num_samples=10000,\n",
    "                                         is_greyscale=True,\n",
    "                                         is_H2O=True,\n",
    "                                         batch_size=None)\n",
    "top_label = explanation.top_labels[0]\n",
    "temp, mask = explanation.get_image_and_mask(top_label, positive_only=True, num_features=1000, hide_rest=True)\n",
    "print('Predicted digit: ', top_label, ' Actual digit: ', digits.target[idx])\n",
    "plt.imshow(mark_boundaries(temp / 2 + 0.5, mask))"
   ]
  },
  {
   "cell_type": "code",
   "execution_count": 8,
   "metadata": {},
   "outputs": [
    {
     "data": {
      "text/plain": [
       "<matplotlib.image.AxesImage at 0x19817044278>"
      ]
     },
     "execution_count": 8,
     "metadata": {},
     "output_type": "execute_result"
    },
    {
     "data": {
      "image/png": "[encoded data removed]",
      "text/plain": [
       "<matplotlib.figure.Figure at 0x1980d3275f8>"
      ]
     },
     "metadata": {},
     "output_type": "display_data"
    }
   ],
   "source": [
    "plt.imshow(digits.images[idx])"
   ]
  },
  {
   "cell_type": "code",
   "execution_count": 1,
   "metadata": {},
   "outputs": [
    {
     "ename": "NameError",
     "evalue": "name 'explanation' is not defined",
     "output_type": "error",
     "traceback": [
      "\u001b[1;31m---------------------------------------------------------------------------\u001b[0m",
      "\u001b[1;31mNameError\u001b[0m                                 Traceback (most recent call last)",
      "\u001b[1;32m<ipython-input-1-0577071f6147>\u001b[0m in \u001b[0;36m<module>\u001b[1;34m()\u001b[0m\n\u001b[1;32m----> 1\u001b[1;33m \u001b[0mexplanation\u001b[0m\u001b[1;33m.\u001b[0m\u001b[0mtop_labels\u001b[0m\u001b[1;33m\u001b[0m\u001b[0m\n\u001b[0m",
      "\u001b[1;31mNameError\u001b[0m: name 'explanation' is not defined"
     ]
    }
   ],
   "source": [
    "explanation.top_labels"
   ]
  },
  {
   "cell_type": "code",
   "execution_count": 17,
   "metadata": {},
   "outputs": [
    {
     "name": "stdout",
     "output_type": "stream",
     "text": [
      "Parse progress: |█████████████████████████████████████████████████████████| 100%\n",
      "Parse progress: |█████████████████████████████████████████████████████████| 100%\n",
      "deeplearning prediction progress: |███████████████████████████████████████| 100%\n",
      "Predicted digit:  3  Actual digit:  3\n"
     ]
    },
    {
     "data": {
      "text/plain": [
       "<matplotlib.image.AxesImage at 0x2274a0be550>"
      ]
     },
     "execution_count": 17,
     "metadata": {},
     "output_type": "execute_result"
    },
    {
     "data": {
      "image/png": "[encoded data removed]",
      "text/plain": [
       "<matplotlib.figure.Figure at 0x227478e8ac8>"
      ]
     },
     "metadata": {},
     "output_type": "display_data"
    }
   ],
   "source": [
    "idx = 23\n",
    "image = h2o.H2OFrame(digits.images[idx])\n",
    "explanation = explainer.explain_instance(image,\n",
    "                                         deep.predict,\n",
    "                                         top_labels=10,\n",
    "                                         labels=digits.target_names,\n",
    "                                         hide_color=None,\n",
    "                                         num_features = 10000,\n",
    "                                         num_samples=10000,\n",
    "                                         is_greyscale=True,\n",
    "                                         is_H2O=True,\n",
    "                                         batch_size=None)\n",
    "top_label = explanation.top_labels[0]\n",
    "temp, mask = explanation.get_image_and_mask(top_label, positive_only=True, num_features=1000, hide_rest=False)\n",
    "print('Predicted digit: ', top_label, ' Actual digit: ', digits.target[idx])\n",
    "plt.imshow(mark_boundaries(temp / 2 + 0.5, mask))"
   ]
  },
  {
   "cell_type": "code",
   "execution_count": 18,
   "metadata": {},
   "outputs": [
    {
     "data": {
      "text/plain": [
       "<matplotlib.image.AxesImage at 0x2274a00f908>"
      ]
     },
     "execution_count": 18,
     "metadata": {},
     "output_type": "execute_result"
    },
    {
     "data": {
      "image/png": "[encoded data removed]",
      "text/plain": [
       "<matplotlib.figure.Figure at 0x22747936208>"
      ]
     },
     "metadata": {},
     "output_type": "display_data"
    }
   ],
   "source": [
    "plt.imshow(digits.images[idx])"
   ]
  },
  {
   "cell_type": "code",
   "execution_count": 12,
   "metadata": {
    "collapsed": true
   },
   "outputs": [],
   "source": [
    "import skimage\n",
    "image,\n",
    "classifier_fn = deep.predict\n",
    "top_labels=5\n",
    "hide_color=None\n",
    "num_samples=100\n",
    "is_greyscale=True\n",
    "is_H2O=True"
   ]
  },
  {
   "cell_type": "code",
   "execution_count": 114,
   "metadata": {},
   "outputs": [
    {
     "name": "stdout",
     "output_type": "stream",
     "text": [
      "Parse progress: |█████████████████████████████████████████████████████████| 100%\n",
      "deeplearning prediction progress: |███████████████████████████████████████| 100%\n"
     ]
    },
    {
     "data": {
      "text/html": [
       "<table>\n",
       "<thead>\n",
       "<tr><th style=\"text-align: right;\">  predict</th><th style=\"text-align: right;\">  p0</th><th style=\"text-align: right;\">         p1</th><th style=\"text-align: right;\">         p2</th><th style=\"text-align: right;\">         p3</th><th style=\"text-align: right;\">         p4</th><th style=\"text-align: right;\">         p5</th><th style=\"text-align: right;\">         p6</th><th style=\"text-align: right;\">         p7</th><th style=\"text-align: right;\">        p8</th><th style=\"text-align: right;\">         p9</th></tr>\n",
       "</thead>\n",
       "<tbody>\n",
       "<tr><td style=\"text-align: right;\">        0</td><td style=\"text-align: right;\">   1</td><td style=\"text-align: right;\">5.51349e-14</td><td style=\"text-align: right;\">2.23239e-12</td><td style=\"text-align: right;\">3.91079e-16</td><td style=\"text-align: right;\">7.10346e-08</td><td style=\"text-align: right;\">9.95929e-09</td><td style=\"text-align: right;\">4.31595e-08</td><td style=\"text-align: right;\">8.41996e-10</td><td style=\"text-align: right;\">3.2694e-09</td><td style=\"text-align: right;\">3.46757e-11</td></tr>\n",
       "</tbody>\n",
       "</table>"
      ]
     },
     "metadata": {},
     "output_type": "display_data"
    },
    {
     "data": {
      "text/plain": []
     },
     "execution_count": 114,
     "metadata": {},
     "output_type": "execute_result"
    }
   ],
   "source": [
    "deep.predict(h2o.H2OFrame(digits.images[idx].flatten()).transpose())"
   ]
  },
  {
   "cell_type": "code",
   "execution_count": 108,
   "metadata": {
    "collapsed": true
   },
   "outputs": [],
   "source": [
    "def data_labels(image,\n",
    "                fudged_image,\n",
    "                segments,\n",
    "                classifier_fn,\n",
    "                num_samples,\n",
    "                is_greyscale,\n",
    "                is_H2O):\n",
    "    n_features = np.unique(segments).shape[0]\n",
    "    data = np.random.randint(0, 2, num_samples * n_features).reshape(\n",
    "                    (num_samples, n_features))\n",
    "\n",
    "    labels = []\n",
    "    data[0, :] = 1\n",
    "    imgs = []\n",
    "    batch_size = 10\n",
    "\n",
    "    for row in data:\n",
    "        temp = copy.deepcopy(image)\n",
    "        zeros = np.where(row == 0)[0]\n",
    "        mask = np.zeros(segments.shape).astype(bool)\n",
    "        for z in zeros:\n",
    "            mask[segments == z] = True\n",
    "        temp[mask] = fudged_image[mask]\n",
    "        if is_greyscale:\n",
    "            temp = skimage.color.rgb2gray(temp)\n",
    "        if is_H2O:\n",
    "            temp = temp.flatten()\n",
    "        imgs.append(temp)\n",
    "   \n",
    "    print(imgs[0])\n",
    "    if is_H2O:\n",
    "        preds = classifier_fn(h2o.H2OFrame(np.array(imgs)))\n",
    "        preds = preds.drop('predict')\n",
    "        labels = preds.as_data_frame().as_matrix()\n",
    "    else:\n",
    "        preds = classifier_fn(np.array(imgs))\n",
    "        labels.extend(preds)\n",
    "    return data, np.array(labels)"
   ]
  },
  {
   "cell_type": "code",
   "execution_count": 111,
   "metadata": {},
   "outputs": [
    {
     "name": "stdout",
     "output_type": "stream",
     "text": [
      "Parse progress: |█████████████████████████████████████████████████████████| 100%\n"
     ]
    },
    {
     "name": "stderr",
     "output_type": "stream",
     "text": [
      "C:\\Users\\Dustin.Verzal\\Downloads\\Anaconda\\lib\\site-packages\\skimage\\util\\dtype.py:122: UserWarning: Possible precision loss when converting from int64 to float64\n",
      "  .format(dtypeobj_in, dtypeobj_out))\n"
     ]
    },
    {
     "name": "stdout",
     "output_type": "stream",
     "text": [
      "[  5.42101086e-20   5.42101086e-20   5.42101086e-20   1.35525272e-18\n",
      "   1.46367293e-18   5.96311195e-19   5.42101086e-20   5.42101086e-20\n",
      "   5.42101086e-20   5.42101086e-20   5.42101086e-20   1.24683250e-18\n",
      "   1.78893358e-18   1.02999206e-18   5.42101086e-20   5.42101086e-20\n",
      "   5.42101086e-20   5.42101086e-20   3.79470760e-19   1.68051337e-18\n",
      "   1.78893358e-18   7.04731412e-19   5.42101086e-20   5.42101086e-20\n",
      "   5.42101086e-20   8.13151629e-19   1.68051337e-18   1.78893358e-18\n",
      "   1.78893358e-18   2.71050543e-19   5.42101086e-20   5.42101086e-20\n",
      "   5.42101086e-20   5.42101086e-20   1.62630326e-19   1.78893358e-18\n",
      "   1.78893358e-18   3.79470760e-19   5.42101086e-20   5.42101086e-20\n",
      "   5.42101086e-20   5.42101086e-20   1.62630326e-19   1.78893358e-18\n",
      "   1.78893358e-18   7.04731412e-19   5.42101086e-20   5.42101086e-20\n",
      "   5.42101086e-20   5.42101086e-20   1.62630326e-19   1.78893358e-18\n",
      "   1.78893358e-18   7.04731412e-19   5.42101086e-20   5.42101086e-20\n",
      "   5.42101086e-20   5.42101086e-20   5.42101086e-20   1.24683250e-18\n",
      "   1.78893358e-18   1.13841228e-18   5.42101086e-20   5.42101086e-20]\n",
      "Parse progress: |█████████████████████████████████████████████████████████| 100%\n",
      "deeplearning prediction progress: |███████████████████████████████████████| 100%\n"
     ]
    }
   ],
   "source": [
    "image = h2o.H2OFrame(digits.images[1])\n",
    "if is_H2O:\n",
    "    image = image.as_data_frame().as_matrix()\n",
    "\n",
    "if is_greyscale:\n",
    "    image = skimage.color.grey2rgb(image)\n",
    "\n",
    "segments = skimage.segmentation.quickshift(image, kernel_size=4,\n",
    "                      max_dist=200, ratio=0.4)\n",
    "\n",
    "fudged_image = image.copy()\n",
    "if hide_color is None:\n",
    "    for x in np.unique(segments):\n",
    "        fudged_image[segments == x] = (\n",
    "            np.mean(image[segments == x][:, 0]),\n",
    "            np.mean(image[segments == x][:, 1]),\n",
    "            np.mean(image[segments == x][:, 2]))\n",
    "else:\n",
    "    fudged_image[:] = hide_color\n",
    "\n",
    "data, labels = data_labels(image, fudged_image, segments,\n",
    "                                classifier_fn, num_samples,\n",
    "                                is_greyscale=is_greyscale, is_H2O=is_H2O)"
   ]
  },
  {
   "cell_type": "code",
   "execution_count": 114,
   "metadata": {
    "collapsed": true
   },
   "outputs": [],
   "source": [
    "temp = copy.deepcopy(image)\n",
    "zeros = np.where(row == 0)[0]\n",
    "mask = np.zeros(segments.shape).astype(bool)"
   ]
  },
  {
   "cell_type": "code",
   "execution_count": 113,
   "metadata": {},
   "outputs": [
    {
     "data": {
      "text/plain": [
       "array([  4.87890978e-19,   4.87890978e-19,   4.87890978e-19,\n",
       "         4.87890978e-19,   4.87890978e-19,   4.87890978e-19,\n",
       "         4.87890978e-19,   4.87890978e-19,   4.87890978e-19,\n",
       "         4.87890978e-19,   4.87890978e-19,   4.87890978e-19,\n",
       "         4.87890978e-19,   4.87890978e-19,   4.87890978e-19,\n",
       "         4.87890978e-19,   4.87890978e-19,   4.87890978e-19,\n",
       "         4.87890978e-19,   4.87890978e-19,   4.87890978e-19,\n",
       "         4.87890978e-19,   4.87890978e-19,   4.87890978e-19,\n",
       "         4.87890978e-19,   4.87890978e-19,   4.87890978e-19,\n",
       "         4.87890978e-19,   4.87890978e-19,   4.87890978e-19,\n",
       "         4.87890978e-19,   4.87890978e-19,   4.87890978e-19,\n",
       "         4.87890978e-19,   4.87890978e-19,   4.87890978e-19,\n",
       "         4.87890978e-19,   4.87890978e-19,   4.87890978e-19,\n",
       "         4.87890978e-19,   4.87890978e-19,   4.87890978e-19,\n",
       "         4.87890978e-19,   4.87890978e-19,   4.87890978e-19,\n",
       "         4.87890978e-19,   4.87890978e-19,   4.87890978e-19,\n",
       "         4.87890978e-19,   4.87890978e-19,   4.87890978e-19,\n",
       "         4.87890978e-19,   4.87890978e-19,   4.87890978e-19,\n",
       "         4.87890978e-19,   4.87890978e-19,   4.87890978e-19,\n",
       "         4.87890978e-19,   4.87890978e-19,   4.87890978e-19,\n",
       "         4.87890978e-19,   4.87890978e-19,   4.87890978e-19,\n",
       "         4.87890978e-19])"
      ]
     },
     "execution_count": 113,
     "metadata": {},
     "output_type": "execute_result"
    }
   ],
   "source": [
    "for z in zeros:\n",
    "    mask[segments == z] = True\n",
    "temp[mask] = fudged_image[mask]\n",
    "if is_greyscale:\n",
    "    temp = skimage.color.rgb2gray(temp)\n",
    "if is_H2O:\n",
    "    temp = temp.flatten()"
   ]
  },
  {
   "cell_type": "code",
   "execution_count": null,
   "metadata": {
    "collapsed": true
   },
   "outputs": [],
   "source": []
  }
 ],
 "metadata": {
  "kernelspec": {
   "display_name": "Python 3",
   "language": "python",
   "name": "python3"
  },
  "language_info": {
   "codemirror_mode": {
    "name": "ipython",
    "version": 3
   },
   "file_extension": ".py",
   "mimetype": "text/x-python",
   "name": "python",
   "nbconvert_exporter": "python",
   "pygments_lexer": "ipython3",
   "version": "3.5.3"
  }
 },
 "nbformat": 4,
 "nbformat_minor": 2
}
